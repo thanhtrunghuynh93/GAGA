{
  "cells": [
    {
      "cell_type": "code",
      "execution_count": null,
      "metadata": {
        "colab": {
          "base_uri": "https://localhost:8080/"
        },
        "id": "xLAN-ijx-agk",
        "outputId": "5a1c4d61-a042-4749-c204-bcf08ecc3039"
      },
      "outputs": [
        {
          "name": "stdout",
          "output_type": "stream",
          "text": [
            "Looking in indexes: https://pypi.org/simple, https://us-python.pkg.dev/colab-wheels/public/simple/\n",
            "Collecting dgl\n",
            "  Downloading dgl-1.1.1-cp310-cp310-manylinux1_x86_64.whl (6.3 MB)\n",
            "\u001b[2K     \u001b[90m━━━━━━━━━━━━━━━━━━━━━━━━━━━━━━━━━━━━━━━━\u001b[0m \u001b[32m6.3/6.3 MB\u001b[0m \u001b[31m54.5 MB/s\u001b[0m eta \u001b[36m0:00:00\u001b[0m\n",
            "\u001b[?25hRequirement already satisfied: numpy>=1.14.0 in /usr/local/lib/python3.10/dist-packages (from dgl) (1.22.4)\n",
            "Requirement already satisfied: scipy>=1.1.0 in /usr/local/lib/python3.10/dist-packages (from dgl) (1.10.1)\n",
            "Requirement already satisfied: networkx>=2.1 in /usr/local/lib/python3.10/dist-packages (from dgl) (3.1)\n",
            "Requirement already satisfied: requests>=2.19.0 in /usr/local/lib/python3.10/dist-packages (from dgl) (2.27.1)\n",
            "Requirement already satisfied: tqdm in /usr/local/lib/python3.10/dist-packages (from dgl) (4.65.0)\n",
            "Requirement already satisfied: psutil>=5.8.0 in /usr/local/lib/python3.10/dist-packages (from dgl) (5.9.5)\n",
            "Requirement already satisfied: urllib3<1.27,>=1.21.1 in /usr/local/lib/python3.10/dist-packages (from requests>=2.19.0->dgl) (1.26.16)\n",
            "Requirement already satisfied: certifi>=2017.4.17 in /usr/local/lib/python3.10/dist-packages (from requests>=2.19.0->dgl) (2023.5.7)\n",
            "Requirement already satisfied: charset-normalizer~=2.0.0 in /usr/local/lib/python3.10/dist-packages (from requests>=2.19.0->dgl) (2.0.12)\n",
            "Requirement already satisfied: idna<4,>=2.5 in /usr/local/lib/python3.10/dist-packages (from requests>=2.19.0->dgl) (3.4)\n",
            "Installing collected packages: dgl\n",
            "Successfully installed dgl-1.1.1\n",
            "Looking in indexes: https://pypi.org/simple, https://us-python.pkg.dev/colab-wheels/public/simple/\n",
            "Requirement already satisfied: transformers in /usr/local/lib/python3.10/dist-packages (4.30.2)\n",
            "Requirement already satisfied: filelock in /usr/local/lib/python3.10/dist-packages (from transformers) (3.12.2)\n",
            "Requirement already satisfied: huggingface-hub<1.0,>=0.14.1 in /usr/local/lib/python3.10/dist-packages (from transformers) (0.15.1)\n",
            "Requirement already satisfied: numpy>=1.17 in /usr/local/lib/python3.10/dist-packages (from transformers) (1.22.4)\n",
            "Requirement already satisfied: packaging>=20.0 in /usr/local/lib/python3.10/dist-packages (from transformers) (23.1)\n",
            "Requirement already satisfied: pyyaml>=5.1 in /usr/local/lib/python3.10/dist-packages (from transformers) (6.0)\n",
            "Requirement already satisfied: regex!=2019.12.17 in /usr/local/lib/python3.10/dist-packages (from transformers) (2022.10.31)\n",
            "Requirement already satisfied: requests in /usr/local/lib/python3.10/dist-packages (from transformers) (2.27.1)\n",
            "Requirement already satisfied: tokenizers!=0.11.3,<0.14,>=0.11.1 in /usr/local/lib/python3.10/dist-packages (from transformers) (0.13.3)\n",
            "Requirement already satisfied: safetensors>=0.3.1 in /usr/local/lib/python3.10/dist-packages (from transformers) (0.3.1)\n",
            "Requirement already satisfied: tqdm>=4.27 in /usr/local/lib/python3.10/dist-packages (from transformers) (4.65.0)\n",
            "Requirement already satisfied: fsspec in /usr/local/lib/python3.10/dist-packages (from huggingface-hub<1.0,>=0.14.1->transformers) (2023.6.0)\n",
            "Requirement already satisfied: typing-extensions>=3.7.4.3 in /usr/local/lib/python3.10/dist-packages (from huggingface-hub<1.0,>=0.14.1->transformers) (4.6.3)\n",
            "Requirement already satisfied: urllib3<1.27,>=1.21.1 in /usr/local/lib/python3.10/dist-packages (from requests->transformers) (1.26.16)\n",
            "Requirement already satisfied: certifi>=2017.4.17 in /usr/local/lib/python3.10/dist-packages (from requests->transformers) (2023.5.7)\n",
            "Requirement already satisfied: charset-normalizer~=2.0.0 in /usr/local/lib/python3.10/dist-packages (from requests->transformers) (2.0.12)\n",
            "Requirement already satisfied: idna<4,>=2.5 in /usr/local/lib/python3.10/dist-packages (from requests->transformers) (3.4)\n"
          ]
        }
      ],
      "source": [
        "!pip3 install dgl\n",
        "!pip3 install transformers"
      ]
    },
    {
      "cell_type": "code",
      "execution_count": null,
      "metadata": {
        "colab": {
          "base_uri": "https://localhost:8080/"
        },
        "id": "r-EnlBvcxS8v",
        "outputId": "c8c4200c-b87a-4fa1-9f86-169c675bf470"
      },
      "outputs": [
        {
          "name": "stderr",
          "output_type": "stream",
          "text": [
            "[nltk_data] Downloading package punkt to /root/nltk_data...\n",
            "[nltk_data]   Package punkt is already up-to-date!\n"
          ]
        },
        {
          "data": {
            "text/plain": [
              "True"
            ]
          },
          "execution_count": 22,
          "metadata": {},
          "output_type": "execute_result"
        }
      ],
      "source": [
        "import nltk\n",
        "nltk.download('punkt')"
      ]
    },
    {
      "cell_type": "code",
      "execution_count": 1,
      "metadata": {
        "colab": {
          "base_uri": "https://localhost:8080/"
        },
        "id": "AK1vgmT17UyG",
        "outputId": "e6ee5cff-359a-4401-f2d3-f791a5649ada"
      },
      "outputs": [],
      "source": [
        "import torch\n",
        "import torch.nn as nn\n",
        "import torch.nn.functional as  F\n",
        "\n",
        "import dgl\n",
        "from transformers import pipeline\n",
        "import numpy as np\n",
        "import pickle\n",
        "from tqdm import tqdm\n",
        "import sys\n",
        "import os\n",
        "import pandas as pd\n",
        "import time"
      ]
    },
    {
      "cell_type": "code",
      "execution_count": null,
      "metadata": {
        "id": "02GyYyaAvZIX"
      },
      "outputs": [],
      "source": [
        "from tqdm.auto import tqdm\n",
        "tqdm.pandas()"
      ]
    },
    {
      "cell_type": "code",
      "execution_count": null,
      "metadata": {
        "id": "-HJumiqU5cN7"
      },
      "outputs": [],
      "source": [
        "from collections import defaultdict, Counter"
      ]
    },
    {
      "cell_type": "code",
      "execution_count": null,
      "metadata": {
        "id": "CXlhVeOc-PC4"
      },
      "outputs": [],
      "source": [
        "df_train = pd.read_csv('/content/drive/MyDrive/5fold/train_0.tsv', delimiter='\\t')\n",
        "df_test = pd.read_csv('/content/drive/MyDrive/5fold/test_0.tsv', delimiter='\\t')\n",
        "df_dev = pd.read_csv('/content/drive/MyDrive/5fold/dev.tsv', delimiter='\\t')"
      ]
    },
    {
      "cell_type": "code",
      "execution_count": null,
      "metadata": {
        "colab": {
          "base_uri": "https://localhost:8080/"
        },
        "id": "Ofmz_y36_LBG",
        "outputId": "68d2f873-bce7-4637-8dc0-3476ee2546db"
      },
      "outputs": [
        {
          "name": "stderr",
          "output_type": "stream",
          "text": [
            "Some weights of the model checkpoint at roberta-large-mnli were not used when initializing RobertaForSequenceClassification: ['roberta.pooler.dense.bias', 'roberta.pooler.dense.weight']\n",
            "- This IS expected if you are initializing RobertaForSequenceClassification from the checkpoint of a model trained on another task or with another architecture (e.g. initializing a BertForSequenceClassification model from a BertForPreTraining model).\n",
            "- This IS NOT expected if you are initializing RobertaForSequenceClassification from the checkpoint of a model that you expect to be exactly identical (initializing a BertForSequenceClassification model from a BertForSequenceClassification model).\n"
          ]
        }
      ],
      "source": [
        "classifier = pipeline('zero-shot-classification', model='roberta-large-mnli')"
      ]
    },
    {
      "cell_type": "code",
      "execution_count": null,
      "metadata": {
        "id": "MXmhLxaGvrG4"
      },
      "outputs": [],
      "source": [
        "sample_df = df_dev[:100]"
      ]
    },
    {
      "cell_type": "code",
      "execution_count": null,
      "metadata": {
        "colab": {
          "base_uri": "https://localhost:8080/",
          "height": 153,
          "referenced_widgets": [
            "ca5c8b9605cc4b6286367993ba045df2",
            "a679e6af13bc4cf9b904cafb581d525b",
            "f923a7d580274a10b2f1180a8acf477e",
            "82bad945fd6543d5800b5d7604516fb8",
            "1216ae9fad544d7bb1aa7fb46e811e12",
            "962c483e4dc44022935f5f8017f525bf",
            "4ff588f3f60044f8915290d5db4c0b8b",
            "1d6dc23ee1cd40b08cf76da172fae62d",
            "5e95ecac003f421fb03bdee12ef5ede5",
            "45112c22206f4d2390579a73c3542541",
            "27522416adab414e97202e7a1134fd44"
          ]
        },
        "id": "mY0QSVTfphlb",
        "outputId": "e901d833-c110-4267-a529-d9834a3e8f46"
      },
      "outputs": [
        {
          "data": {
            "application/vnd.jupyter.widget-view+json": {
              "model_id": "ca5c8b9605cc4b6286367993ba045df2",
              "version_major": 2,
              "version_minor": 0
            },
            "text/plain": [
              "  0%|          | 0/100 [00:00<?, ?it/s]"
            ]
          },
          "metadata": {},
          "output_type": "display_data"
        },
        {
          "name": "stderr",
          "output_type": "stream",
          "text": [
            "<ipython-input-28-2a9d014839bf>:1: SettingWithCopyWarning: \n",
            "A value is trying to be set on a copy of a slice from a DataFrame.\n",
            "Try using .loc[row_indexer,col_indexer] = value instead\n",
            "\n",
            "See the caveats in the documentation: https://pandas.pydata.org/pandas-docs/stable/user_guide/indexing.html#returning-a-view-versus-a-copy\n",
            "  sample_df['supporting_score'] = sample_df.progress_apply(lambda x : classifier(x['claim_text'], x['evidence'])['scores'][0], axis=1)\n"
          ]
        }
      ],
      "source": [
        "sample_df['supporting_score'] = sample_df.progress_apply(lambda x : classifier(x['claim_text'], x['evidence'])['scores'][0], axis=1)"
      ]
    },
    {
      "cell_type": "code",
      "execution_count": null,
      "metadata": {
        "colab": {
          "base_uri": "https://localhost:8080/"
        },
        "id": "21kDfFEAwspN",
        "outputId": "2cea4222-afab-48d7-ed3f-8aa156e9c2b2"
      },
      "outputs": [
        {
          "name": "stderr",
          "output_type": "stream",
          "text": [
            "<ipython-input-31-b87d18765769>:1: SettingWithCopyWarning: \n",
            "A value is trying to be set on a copy of a slice from a DataFrame.\n",
            "Try using .loc[row_indexer,col_indexer] = value instead\n",
            "\n",
            "See the caveats in the documentation: https://pandas.pydata.org/pandas-docs/stable/user_guide/indexing.html#returning-a-view-versus-a-copy\n",
            "  sample_df['is_supported'] = sample_df['supporting_score'].apply(lambda x: int(x >= 0.5))\n"
          ]
        }
      ],
      "source": [
        "sample_df['is_supported'] = sample_df['supporting_score'].apply(lambda x: int(x >= 0.5))"
      ]
    },
    {
      "cell_type": "code",
      "execution_count": null,
      "metadata": {
        "id": "52YNpEFxwd4B"
      },
      "outputs": [],
      "source": [
        "import spacy\n",
        "nlp = spacy.load(\"en_core_web_sm\")\n",
        "def extract_nouns(text):\n",
        "  doc = nlp(text)\n",
        "  return [token.lemma_ for token in doc if token.pos_ == \"NOUN\"]"
      ]
    },
    {
      "cell_type": "code",
      "execution_count": null,
      "metadata": {
        "colab": {
          "base_uri": "https://localhost:8080/"
        },
        "id": "kuKM9zNQ_NCk",
        "outputId": "79645417-b638-427b-a824-a6ef32129410"
      },
      "outputs": [
        {
          "name": "stderr",
          "output_type": "stream",
          "text": [
            "100it [00:00, 334.91it/s]\n"
          ]
        }
      ],
      "source": [
        "claim_ids, claim_texts = {}, []\n",
        "evidence_source_ids, evidence_sources = {}, []\n",
        "noun_to_claim_ids = defaultdict(set)\n",
        "evidence_source_to_supported_claim_ids = defaultdict(set)\n",
        "evidence_source_to_not_supported_claim_ids = defaultdict(set)\n",
        "\n",
        "for _, row in tqdm(sample_df.iterrows()):\n",
        "  if row.claim_id not in claim_ids:\n",
        "    claim_ids[row.claim_id] = len(claim_ids)\n",
        "    claim_texts.append(row.claim_text)\n",
        "    for noun in extract_nouns(row.claim_text):\n",
        "      noun_to_claim_ids[noun].add(claim_ids[row.claim_id])\n",
        "  claim_id = claim_ids[row.claim_id]\n",
        "\n",
        "  if row.evidence_source not in evidence_source_ids:\n",
        "    evidence_source_ids[row.evidence_source] = len(evidence_source_ids)\n",
        "    evidence_sources.append(row.evidence_source)\n",
        "  evidence_source_id = evidence_source_ids[row.evidence_source]\n",
        "\n",
        "  if row.is_supported:\n",
        "    evidence_source_to_supported_claim_ids[evidence_source_id].add(claim_id)\n",
        "  else:\n",
        "    evidence_source_to_not_supported_claim_ids[evidence_source_id].add(claim_id)\n"
      ]
    },
    {
      "cell_type": "code",
      "execution_count": null,
      "metadata": {
        "id": "owQpPE2I_UIl"
      },
      "outputs": [],
      "source": [
        "common_np_edges = set()\n",
        "for claim_ids in noun_to_claim_ids.values():\n",
        "  claim_ids = list(claim_ids)\n",
        "  for i in range(len(claim_ids)):\n",
        "    for j in range(i + 1, len(claim_ids)):\n",
        "      common_np_edges.add((claim_ids[i], claim_ids[j]))\n",
        "      common_np_edges.add((claim_ids[j], claim_ids[i]))"
      ]
    },
    {
      "cell_type": "code",
      "execution_count": null,
      "metadata": {
        "id": "9rFvh8zdtwPp"
      },
      "outputs": [],
      "source": [
        "sup_sup_edges = set()\n",
        "for claim_ids in evidence_source_to_supported_claim_ids.values():\n",
        "  claim_ids = list(claim_ids)\n",
        "  for i in range(len(claim_ids)):\n",
        "    for j in range(i + 1, len(claim_ids)):\n",
        "      sup_sup_edges.add((claim_ids[i], claim_ids[j]))\n",
        "      sup_sup_edges.add((claim_ids[j], claim_ids[i]))"
      ]
    },
    {
      "cell_type": "code",
      "execution_count": null,
      "metadata": {
        "id": "zMy44Mjn0mtn"
      },
      "outputs": [],
      "source": [
        "nosup_nosup_edges = set()\n",
        "for claim_ids in evidence_source_to_not_supported_claim_ids.values():\n",
        "  claim_ids = list(claim_ids)\n",
        "  for i in range(len(claim_ids)):\n",
        "    for j in range(i + 1, len(claim_ids)):\n",
        "      nosup_nosup_edges.add((claim_ids[i], claim_ids[j]))\n",
        "      nosup_nosup_edges.add((claim_ids[j], claim_ids[i]))"
      ]
    },
    {
      "cell_type": "code",
      "execution_count": null,
      "metadata": {
        "id": "LSU9_PKk0mvn"
      },
      "outputs": [],
      "source": [
        "sup_nosup_edges = set()\n",
        "evidence_sources = set(evidence_source_to_not_supported_claim_ids).intersection(evidence_source_to_supported_claim_ids)\n",
        "for evidence_source in evidence_sources:\n",
        "  supported_claim_ids = list(evidence_source_to_supported_claim_ids[evidence_source])\n",
        "  not_supported_claim_ids = list(evidence_source_to_not_supported_claim_ids[evidence_source])\n",
        "  for i in range(len(supported_claim_ids)):\n",
        "    for j in range(len(not_supported_claim_ids)):\n",
        "      sup_nosup_edges.add((supported_claim_ids[i], not_supported_claim_ids[j]))\n",
        "      sup_nosup_edges.add((not_supported_claim_ids[j], supported_claim_ids[i]))"
      ]
    },
    {
      "cell_type": "code",
      "execution_count": null,
      "metadata": {
        "id": "OwhloyFi0myx"
      },
      "outputs": [],
      "source": [
        "common_np_edges = np.array([list(edge) for edge in common_np_edges])\n",
        "sup_sup_edges = np.array([list(edge) for edge in sup_sup_edges])\n",
        "nosup_nosup_edges = np.array([list(edge) for edge in nosup_nosup_edges])\n",
        "sup_nosup_edges = np.array([list(edge) for edge in sup_nosup_edges])"
      ]
    },
    {
      "cell_type": "code",
      "execution_count": null,
      "metadata": {
        "colab": {
          "base_uri": "https://localhost:8080/"
        },
        "id": "kAGIIdiJ_bNT",
        "outputId": "2329a4b7-f4ed-4bef-9404-a90e265c7efc"
      },
      "outputs": [
        {
          "data": {
            "text/plain": [
              "Graph(num_nodes={'claim': 16},\n",
              "      num_edges={('claim', 'nosup_nosup', 'claim'): 2, ('claim', 'noun', 'claim'): 4, ('claim', 'sup_nosup', 'claim'): 16, ('claim', 'sup_sup', 'claim'): 16},\n",
              "      metagraph=[('claim', 'claim', 'nosup_nosup'), ('claim', 'claim', 'noun'), ('claim', 'claim', 'sup_nosup'), ('claim', 'claim', 'sup_sup')])"
            ]
          },
          "execution_count": 44,
          "metadata": {},
          "output_type": "execute_result"
        }
      ],
      "source": [
        "\n",
        "\n",
        "graph = dgl.heterograph({\n",
        "    ('claim', 'noun', 'claim') : (common_np_edges[:, 0], common_np_edges[:, 1]),\n",
        "    ('claim', 'sup_sup', 'claim') : (sup_sup_edges[:, 0], sup_sup_edges[:, 1]),\n",
        "    ('claim', 'nosup_nosup', 'claim') : (nosup_nosup_edges[:, 0], nosup_nosup_edges[:, 1]),\n",
        "    ('claim', 'sup_nosup', 'claim') : (sup_nosup_edges[:, 0], sup_nosup_edges[:, 1]),\n",
        "})\n",
        "graph"
      ]
    }
  ],
  "metadata": {
    "accelerator": "GPU",
    "colab": {
      "gpuType": "T4",
      "machine_shape": "hm",
      "provenance": []
    },
    "kernelspec": {
      "display_name": "Python 3",
      "name": "python3"
    },
    "language_info": {
      "codemirror_mode": {
        "name": "ipython",
        "version": 3
      },
      "file_extension": ".py",
      "mimetype": "text/x-python",
      "name": "python",
      "nbconvert_exporter": "python",
      "pygments_lexer": "ipython3",
      "version": "3.10.11"
    },
    "widgets": {
      "application/vnd.jupyter.widget-state+json": {
        "1216ae9fad544d7bb1aa7fb46e811e12": {
          "model_module": "@jupyter-widgets/base",
          "model_module_version": "1.2.0",
          "model_name": "LayoutModel",
          "state": {
            "_model_module": "@jupyter-widgets/base",
            "_model_module_version": "1.2.0",
            "_model_name": "LayoutModel",
            "_view_count": null,
            "_view_module": "@jupyter-widgets/base",
            "_view_module_version": "1.2.0",
            "_view_name": "LayoutView",
            "align_content": null,
            "align_items": null,
            "align_self": null,
            "border": null,
            "bottom": null,
            "display": null,
            "flex": null,
            "flex_flow": null,
            "grid_area": null,
            "grid_auto_columns": null,
            "grid_auto_flow": null,
            "grid_auto_rows": null,
            "grid_column": null,
            "grid_gap": null,
            "grid_row": null,
            "grid_template_areas": null,
            "grid_template_columns": null,
            "grid_template_rows": null,
            "height": null,
            "justify_content": null,
            "justify_items": null,
            "left": null,
            "margin": null,
            "max_height": null,
            "max_width": null,
            "min_height": null,
            "min_width": null,
            "object_fit": null,
            "object_position": null,
            "order": null,
            "overflow": null,
            "overflow_x": null,
            "overflow_y": null,
            "padding": null,
            "right": null,
            "top": null,
            "visibility": null,
            "width": null
          }
        },
        "1d6dc23ee1cd40b08cf76da172fae62d": {
          "model_module": "@jupyter-widgets/base",
          "model_module_version": "1.2.0",
          "model_name": "LayoutModel",
          "state": {
            "_model_module": "@jupyter-widgets/base",
            "_model_module_version": "1.2.0",
            "_model_name": "LayoutModel",
            "_view_count": null,
            "_view_module": "@jupyter-widgets/base",
            "_view_module_version": "1.2.0",
            "_view_name": "LayoutView",
            "align_content": null,
            "align_items": null,
            "align_self": null,
            "border": null,
            "bottom": null,
            "display": null,
            "flex": null,
            "flex_flow": null,
            "grid_area": null,
            "grid_auto_columns": null,
            "grid_auto_flow": null,
            "grid_auto_rows": null,
            "grid_column": null,
            "grid_gap": null,
            "grid_row": null,
            "grid_template_areas": null,
            "grid_template_columns": null,
            "grid_template_rows": null,
            "height": null,
            "justify_content": null,
            "justify_items": null,
            "left": null,
            "margin": null,
            "max_height": null,
            "max_width": null,
            "min_height": null,
            "min_width": null,
            "object_fit": null,
            "object_position": null,
            "order": null,
            "overflow": null,
            "overflow_x": null,
            "overflow_y": null,
            "padding": null,
            "right": null,
            "top": null,
            "visibility": null,
            "width": null
          }
        },
        "27522416adab414e97202e7a1134fd44": {
          "model_module": "@jupyter-widgets/controls",
          "model_module_version": "1.5.0",
          "model_name": "DescriptionStyleModel",
          "state": {
            "_model_module": "@jupyter-widgets/controls",
            "_model_module_version": "1.5.0",
            "_model_name": "DescriptionStyleModel",
            "_view_count": null,
            "_view_module": "@jupyter-widgets/base",
            "_view_module_version": "1.2.0",
            "_view_name": "StyleView",
            "description_width": ""
          }
        },
        "45112c22206f4d2390579a73c3542541": {
          "model_module": "@jupyter-widgets/base",
          "model_module_version": "1.2.0",
          "model_name": "LayoutModel",
          "state": {
            "_model_module": "@jupyter-widgets/base",
            "_model_module_version": "1.2.0",
            "_model_name": "LayoutModel",
            "_view_count": null,
            "_view_module": "@jupyter-widgets/base",
            "_view_module_version": "1.2.0",
            "_view_name": "LayoutView",
            "align_content": null,
            "align_items": null,
            "align_self": null,
            "border": null,
            "bottom": null,
            "display": null,
            "flex": null,
            "flex_flow": null,
            "grid_area": null,
            "grid_auto_columns": null,
            "grid_auto_flow": null,
            "grid_auto_rows": null,
            "grid_column": null,
            "grid_gap": null,
            "grid_row": null,
            "grid_template_areas": null,
            "grid_template_columns": null,
            "grid_template_rows": null,
            "height": null,
            "justify_content": null,
            "justify_items": null,
            "left": null,
            "margin": null,
            "max_height": null,
            "max_width": null,
            "min_height": null,
            "min_width": null,
            "object_fit": null,
            "object_position": null,
            "order": null,
            "overflow": null,
            "overflow_x": null,
            "overflow_y": null,
            "padding": null,
            "right": null,
            "top": null,
            "visibility": null,
            "width": null
          }
        },
        "4ff588f3f60044f8915290d5db4c0b8b": {
          "model_module": "@jupyter-widgets/controls",
          "model_module_version": "1.5.0",
          "model_name": "DescriptionStyleModel",
          "state": {
            "_model_module": "@jupyter-widgets/controls",
            "_model_module_version": "1.5.0",
            "_model_name": "DescriptionStyleModel",
            "_view_count": null,
            "_view_module": "@jupyter-widgets/base",
            "_view_module_version": "1.2.0",
            "_view_name": "StyleView",
            "description_width": ""
          }
        },
        "5e95ecac003f421fb03bdee12ef5ede5": {
          "model_module": "@jupyter-widgets/controls",
          "model_module_version": "1.5.0",
          "model_name": "ProgressStyleModel",
          "state": {
            "_model_module": "@jupyter-widgets/controls",
            "_model_module_version": "1.5.0",
            "_model_name": "ProgressStyleModel",
            "_view_count": null,
            "_view_module": "@jupyter-widgets/base",
            "_view_module_version": "1.2.0",
            "_view_name": "StyleView",
            "bar_color": null,
            "description_width": ""
          }
        },
        "82bad945fd6543d5800b5d7604516fb8": {
          "model_module": "@jupyter-widgets/controls",
          "model_module_version": "1.5.0",
          "model_name": "HTMLModel",
          "state": {
            "_dom_classes": [],
            "_model_module": "@jupyter-widgets/controls",
            "_model_module_version": "1.5.0",
            "_model_name": "HTMLModel",
            "_view_count": null,
            "_view_module": "@jupyter-widgets/controls",
            "_view_module_version": "1.5.0",
            "_view_name": "HTMLView",
            "description": "",
            "description_tooltip": null,
            "layout": "IPY_MODEL_45112c22206f4d2390579a73c3542541",
            "placeholder": "​",
            "style": "IPY_MODEL_27522416adab414e97202e7a1134fd44",
            "value": " 100/100 [02:25&lt;00:00,  1.17s/it]"
          }
        },
        "962c483e4dc44022935f5f8017f525bf": {
          "model_module": "@jupyter-widgets/base",
          "model_module_version": "1.2.0",
          "model_name": "LayoutModel",
          "state": {
            "_model_module": "@jupyter-widgets/base",
            "_model_module_version": "1.2.0",
            "_model_name": "LayoutModel",
            "_view_count": null,
            "_view_module": "@jupyter-widgets/base",
            "_view_module_version": "1.2.0",
            "_view_name": "LayoutView",
            "align_content": null,
            "align_items": null,
            "align_self": null,
            "border": null,
            "bottom": null,
            "display": null,
            "flex": null,
            "flex_flow": null,
            "grid_area": null,
            "grid_auto_columns": null,
            "grid_auto_flow": null,
            "grid_auto_rows": null,
            "grid_column": null,
            "grid_gap": null,
            "grid_row": null,
            "grid_template_areas": null,
            "grid_template_columns": null,
            "grid_template_rows": null,
            "height": null,
            "justify_content": null,
            "justify_items": null,
            "left": null,
            "margin": null,
            "max_height": null,
            "max_width": null,
            "min_height": null,
            "min_width": null,
            "object_fit": null,
            "object_position": null,
            "order": null,
            "overflow": null,
            "overflow_x": null,
            "overflow_y": null,
            "padding": null,
            "right": null,
            "top": null,
            "visibility": null,
            "width": null
          }
        },
        "a679e6af13bc4cf9b904cafb581d525b": {
          "model_module": "@jupyter-widgets/controls",
          "model_module_version": "1.5.0",
          "model_name": "HTMLModel",
          "state": {
            "_dom_classes": [],
            "_model_module": "@jupyter-widgets/controls",
            "_model_module_version": "1.5.0",
            "_model_name": "HTMLModel",
            "_view_count": null,
            "_view_module": "@jupyter-widgets/controls",
            "_view_module_version": "1.5.0",
            "_view_name": "HTMLView",
            "description": "",
            "description_tooltip": null,
            "layout": "IPY_MODEL_962c483e4dc44022935f5f8017f525bf",
            "placeholder": "​",
            "style": "IPY_MODEL_4ff588f3f60044f8915290d5db4c0b8b",
            "value": "100%"
          }
        },
        "ca5c8b9605cc4b6286367993ba045df2": {
          "model_module": "@jupyter-widgets/controls",
          "model_module_version": "1.5.0",
          "model_name": "HBoxModel",
          "state": {
            "_dom_classes": [],
            "_model_module": "@jupyter-widgets/controls",
            "_model_module_version": "1.5.0",
            "_model_name": "HBoxModel",
            "_view_count": null,
            "_view_module": "@jupyter-widgets/controls",
            "_view_module_version": "1.5.0",
            "_view_name": "HBoxView",
            "box_style": "",
            "children": [
              "IPY_MODEL_a679e6af13bc4cf9b904cafb581d525b",
              "IPY_MODEL_f923a7d580274a10b2f1180a8acf477e",
              "IPY_MODEL_82bad945fd6543d5800b5d7604516fb8"
            ],
            "layout": "IPY_MODEL_1216ae9fad544d7bb1aa7fb46e811e12"
          }
        },
        "f923a7d580274a10b2f1180a8acf477e": {
          "model_module": "@jupyter-widgets/controls",
          "model_module_version": "1.5.0",
          "model_name": "FloatProgressModel",
          "state": {
            "_dom_classes": [],
            "_model_module": "@jupyter-widgets/controls",
            "_model_module_version": "1.5.0",
            "_model_name": "FloatProgressModel",
            "_view_count": null,
            "_view_module": "@jupyter-widgets/controls",
            "_view_module_version": "1.5.0",
            "_view_name": "ProgressView",
            "bar_style": "success",
            "description": "",
            "description_tooltip": null,
            "layout": "IPY_MODEL_1d6dc23ee1cd40b08cf76da172fae62d",
            "max": 100,
            "min": 0,
            "orientation": "horizontal",
            "style": "IPY_MODEL_5e95ecac003f421fb03bdee12ef5ede5",
            "value": 100
          }
        }
      }
    }
  },
  "nbformat": 4,
  "nbformat_minor": 0
}
