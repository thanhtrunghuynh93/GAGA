{
 "cells": [
  {
   "cell_type": "code",
   "execution_count": 22,
   "id": "5deca10a",
   "metadata": {},
   "outputs": [],
   "source": [
    "from transformers import AutoModel, AutoTokenizer\n",
    "import pandas as pd\n",
    "import numpy as np\n",
    "from collections import defaultdict, Counter\n",
    "from tqdm import tqdm"
   ]
  },
  {
   "cell_type": "code",
   "execution_count": 2,
   "id": "dcb7517d",
   "metadata": {},
   "outputs": [],
   "source": [
    "df_train = pd.read_csv('./formatted_data/declare/Snopes/mapped_data/5fold/train_0.tsv', delimiter='\\t')\n",
    "df_test = pd.read_csv('./formatted_data/declare/Snopes/mapped_data/5fold/test_0.tsv', delimiter='\\t')\n",
    "df_dev = pd.read_csv('./formatted_data/declare/Snopes/mapped_data/dev.tsv', delimiter='\\t')"
   ]
  },
  {
   "cell_type": "code",
   "execution_count": 8,
   "id": "d24dc4e5",
   "metadata": {},
   "outputs": [
    {
     "name": "stdout",
     "output_type": "stream",
     "text": [
      "There are at most 28 evidences per claim\n",
      "There are at most 26 evidences per claim\n",
      "There are at most 26 evidences per claim\n"
     ]
    }
   ],
   "source": [
    "for df in [df_train, df_test, df_dev]:\n",
    "    print(\"There are at most {} evidences per claim\"\\\n",
    "          .format(df.groupby('id_left').count().cred_label.max()))"
   ]
  },
  {
   "cell_type": "code",
   "execution_count": 9,
   "id": "e8a288a6",
   "metadata": {},
   "outputs": [
    {
     "data": {
      "text/html": [
       "<div>\n",
       "<style scoped>\n",
       "    .dataframe tbody tr th:only-of-type {\n",
       "        vertical-align: middle;\n",
       "    }\n",
       "\n",
       "    .dataframe tbody tr th {\n",
       "        vertical-align: top;\n",
       "    }\n",
       "\n",
       "    .dataframe thead th {\n",
       "        text-align: right;\n",
       "    }\n",
       "</style>\n",
       "<table border=\"1\" class=\"dataframe\">\n",
       "  <thead>\n",
       "    <tr style=\"text-align: right;\">\n",
       "      <th></th>\n",
       "      <th>id_left</th>\n",
       "      <th>cred_label</th>\n",
       "      <th>claim_id</th>\n",
       "      <th>claim_text</th>\n",
       "      <th>claim_source</th>\n",
       "      <th>id_right</th>\n",
       "      <th>evidence</th>\n",
       "      <th>evidence_source</th>\n",
       "    </tr>\n",
       "  </thead>\n",
       "  <tbody>\n",
       "    <tr>\n",
       "      <th>0</th>\n",
       "      <td>2586</td>\n",
       "      <td>False</td>\n",
       "      <td>102-lb-shrimp</td>\n",
       "      <td>image depicts 102 lb shrimp caught near homosa...</td>\n",
       "      <td></td>\n",
       "      <td>17409</td>\n",
       "      <td>the big picture behind a recent study on sparr...</td>\n",
       "      <td>flipboard.com</td>\n",
       "    </tr>\n",
       "    <tr>\n",
       "      <th>1</th>\n",
       "      <td>2762</td>\n",
       "      <td>False</td>\n",
       "      <td>14-year-old-pregnant-flu-shot</td>\n",
       "      <td>girl became pregnant receiving flu shot</td>\n",
       "      <td></td>\n",
       "      <td>18619</td>\n",
       "      <td>texas girl impregnated by flu summary of a tex...</td>\n",
       "      <td>www.truthorfiction.com</td>\n",
       "    </tr>\n",
       "    <tr>\n",
       "      <th>2</th>\n",
       "      <td>2762</td>\n",
       "      <td>False</td>\n",
       "      <td>14-year-old-pregnant-flu-shot</td>\n",
       "      <td>girl became pregnant receiving flu shot</td>\n",
       "      <td></td>\n",
       "      <td>18620</td>\n",
       "      <td>between satire about us did a 14 year old real...</td>\n",
       "      <td>www.thatsfake.com</td>\n",
       "    </tr>\n",
       "    <tr>\n",
       "      <th>3</th>\n",
       "      <td>2762</td>\n",
       "      <td>False</td>\n",
       "      <td>14-year-old-pregnant-flu-shot</td>\n",
       "      <td>girl became pregnant receiving flu shot</td>\n",
       "      <td></td>\n",
       "      <td>18621</td>\n",
       "      <td>old virgin falls pregnant after flu shot login...</td>\n",
       "      <td>topratedviral.com</td>\n",
       "    </tr>\n",
       "    <tr>\n",
       "      <th>4</th>\n",
       "      <td>2762</td>\n",
       "      <td>False</td>\n",
       "      <td>14-year-old-pregnant-flu-shot</td>\n",
       "      <td>girl became pregnant receiving flu shot</td>\n",
       "      <td></td>\n",
       "      <td>18622</td>\n",
       "      <td>settings show signatures loading thread oct 24...</td>\n",
       "      <td>www.whattoexpect.com</td>\n",
       "    </tr>\n",
       "  </tbody>\n",
       "</table>\n",
       "</div>"
      ],
      "text/plain": [
       "   id_left  cred_label                       claim_id  \\\n",
       "0     2586       False                  102-lb-shrimp   \n",
       "1     2762       False  14-year-old-pregnant-flu-shot   \n",
       "2     2762       False  14-year-old-pregnant-flu-shot   \n",
       "3     2762       False  14-year-old-pregnant-flu-shot   \n",
       "4     2762       False  14-year-old-pregnant-flu-shot   \n",
       "\n",
       "                                          claim_text claim_source  id_right  \\\n",
       "0  image depicts 102 lb shrimp caught near homosa...                  17409   \n",
       "1            girl became pregnant receiving flu shot                  18619   \n",
       "2            girl became pregnant receiving flu shot                  18620   \n",
       "3            girl became pregnant receiving flu shot                  18621   \n",
       "4            girl became pregnant receiving flu shot                  18622   \n",
       "\n",
       "                                            evidence         evidence_source  \n",
       "0  the big picture behind a recent study on sparr...           flipboard.com  \n",
       "1  texas girl impregnated by flu summary of a tex...  www.truthorfiction.com  \n",
       "2  between satire about us did a 14 year old real...       www.thatsfake.com  \n",
       "3  old virgin falls pregnant after flu shot login...       topratedviral.com  \n",
       "4  settings show signatures loading thread oct 24...    www.whattoexpect.com  "
      ]
     },
     "execution_count": 9,
     "metadata": {},
     "output_type": "execute_result"
    }
   ],
   "source": [
    "df_train.head()"
   ]
  },
  {
   "cell_type": "code",
   "execution_count": 12,
   "id": "0d9f099a",
   "metadata": {},
   "outputs": [
    {
     "name": "stderr",
     "output_type": "stream",
     "text": [
      "Some weights of the model checkpoint at bert-base-uncased were not used when initializing BertModel: ['cls.seq_relationship.bias', 'cls.predictions.transform.dense.bias', 'cls.predictions.transform.LayerNorm.weight', 'cls.predictions.transform.dense.weight', 'cls.seq_relationship.weight', 'cls.predictions.bias', 'cls.predictions.decoder.weight', 'cls.predictions.transform.LayerNorm.bias']\n",
      "- This IS expected if you are initializing BertModel from the checkpoint of a model trained on another task or with another architecture (e.g. initializing a BertForSequenceClassification model from a BertForPreTraining model).\n",
      "- This IS NOT expected if you are initializing BertModel from the checkpoint of a model that you expect to be exactly identical (initializing a BertForSequenceClassification model from a BertForSequenceClassification model).\n"
     ]
    }
   ],
   "source": [
    "bert_model = AutoModel.from_pretrained('bert-base-uncased')\n",
    "tokenizer = AutoTokenizer.from_pretrained('bert-base-uncased')\n"
   ]
  },
  {
   "cell_type": "code",
   "execution_count": 17,
   "id": "a24e2091",
   "metadata": {},
   "outputs": [],
   "source": [
    "train_evd_encodings = tokenizer(df_train.evidence.values.tolist(), truncation = True, padding = True)\n",
    "test_evd_encodings = tokenizer(df_test.evidence.values.tolist(), truncation = True, padding = True)\n",
    "dev_evd_encodings = tokenizer(df_dev.evidence.values.tolist(), truncation = True, padding = True)"
   ]
  },
  {
   "cell_type": "code",
   "execution_count": 21,
   "id": "02a1aa67",
   "metadata": {},
   "outputs": [
    {
     "data": {
      "text/plain": [
       "(21074, 179)"
      ]
     },
     "execution_count": 21,
     "metadata": {},
     "output_type": "execute_result"
    }
   ],
   "source": [
    "np.array(train_evd_encodings['input_ids']).shape"
   ]
  },
  {
   "cell_type": "code",
   "execution_count": 23,
   "id": "a52ed52e",
   "metadata": {},
   "outputs": [
    {
     "name": "stderr",
     "output_type": "stream",
     "text": [
      "21074it [00:01, 11093.06it/s]\n"
     ]
    }
   ],
   "source": [
    "from tqdm import tqdm\n",
    "train_claim_evidences = defaultdict(list)\n",
    "train_claim_texts, train_labels = [], []\n",
    "for i, (_, row) in tqdm(enumerate(df_train.iterrows())):\n",
    "    if row.id_left not in train_claim_evidences:\n",
    "        train_claim_texts.append(row.claim_text)\n",
    "        train_labels.append(row.cred_label)\n",
    "    train_claim_evidences[row.id_left].append(i)\n",
    "\n",
    "train_claim_encodings = tokenizer(train_claim_texts, truncation = True, padding = True)\n",
    "train_evd_encodings = tokenizer(df_train.evidence.values.tolist(), truncation = True, padding = True)\n"
   ]
  },
  {
   "cell_type": "code",
   "execution_count": null,
   "id": "2b2c69d0",
   "metadata": {},
   "outputs": [],
   "source": [
    "class MyDataset(torch.utils.data.Dataset):\n",
    "    def __init__(self, claim_encodings, evd_encodings, labels, claim_evidences, n_evd_per_claim=30):\n",
    "        self.claim_encodings = claim_encodings\n",
    "        self.evd_encodings = evd_encodings\n",
    "        self.labels = labels\n",
    "        self.claim_evidences = claim_evidences\n",
    "        self.n_evd_per_claim = n_evd_per_claim\n",
    "\n",
    "    def __getitem__(self, idx):\n",
    "        claim_item = {key: torch.tensor(val[idx]) for key, val in self.claim_encodings.items()}\n",
    "        claim_evidences\n",
    "        label = self.labels[idx]\n",
    "        return claim_item, label\n",
    "\n",
    "    def __len__(self):\n",
    "        return len(labels)"
   ]
  }
 ],
 "metadata": {
  "kernelspec": {
   "display_name": "torch-geo",
   "language": "python",
   "name": "torch-geo"
  },
  "language_info": {
   "codemirror_mode": {
    "name": "ipython",
    "version": 3
   },
   "file_extension": ".py",
   "mimetype": "text/x-python",
   "name": "python",
   "nbconvert_exporter": "python",
   "pygments_lexer": "ipython3",
   "version": "3.9.7"
  }
 },
 "nbformat": 4,
 "nbformat_minor": 5
}
